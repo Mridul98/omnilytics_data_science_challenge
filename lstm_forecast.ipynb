{
 "cells": [
  {
   "cell_type": "code",
   "execution_count": 4,
   "metadata": {},
   "outputs": [],
   "source": [
    "import pandas as pd\n",
    "import torch\n",
    "import torch.nn as nn\n",
    "from torch.utils.data import Dataset\n"
   ]
  },
  {
   "cell_type": "code",
   "execution_count": 6,
   "metadata": {},
   "outputs": [],
   "source": [
    "ts_df = pd.read_csv('./solutions/datasets/trends1.csv',low_memory=False,usecols=['date','top 1'],parse_dates=['date'])"
   ]
  },
  {
   "cell_type": "code",
   "execution_count": 19,
   "metadata": {},
   "outputs": [],
   "source": [
    "ts_tensor = torch.FloatTensor(ts_df['top 1'].values).unsqueeze(dim=0)"
   ]
  },
  {
   "cell_type": "code",
   "execution_count": 20,
   "metadata": {},
   "outputs": [
    {
     "data": {
      "text/plain": [
       "torch.Size([1, 261])"
      ]
     },
     "execution_count": 20,
     "metadata": {},
     "output_type": "execute_result"
    }
   ],
   "source": [
    "ts_tensor.shape"
   ]
  },
  {
   "cell_type": "code",
   "execution_count": 13,
   "metadata": {},
   "outputs": [
    {
     "data": {
      "text/plain": [
       "tensor([ 4.,  7.,  5.,  5.,  4.,  4.,  4.,  7.,  4.,  3.,  5.,  7.,  6.,  4.,\n",
       "         4.,  5.,  4.,  4.,  5.,  3.,  3.,  6.,  4.,  5.,  3.,  5.,  5.,  4.,\n",
       "         5.,  4.,  3.,  4.,  4.,  3.,  4.,  5.,  3.,  4.,  3.,  5.,  3.,  4.,\n",
       "         4.,  4.,  4.,  6.,  3.,  3.,  4.,  4.,  6.,  5.,  6.,  6.,  6.,  5.,\n",
       "         4.,  3.,  6.,  5.,  4.,  5.,  5.,  4.,  3.,  5.,  3.,  5.,  6.,  4.,\n",
       "         5.,  3.,  4.,  4.,  4.,  5.,  5.,  3.,  5.,  3.,  4.,  4.,  4.,  5.,\n",
       "         4.,  5.,  5.,  3.,  4.,  3.,  4.,  4.,  5.,  4.,  5.,  5.,  4.,  5.,\n",
       "         4.,  6.,  5.,  6.,  4.,  6.,  3.,  5.,  5.,  4.,  3.,  5.,  5.,  5.,\n",
       "         5.,  6.,  6.,  5.,  6.,  6.,  5.,  5.,  5.,  5.,  4.,  5.,  4.,  3.,\n",
       "         4.,  3.,  5.,  5.,  6.,  7.,  8.,  8.,  6.,  7.,  6.,  7.,  8.,  8.,\n",
       "         7.,  6.,  5.,  8.,  8., 10., 11., 10., 11., 11., 11., 12., 10., 13.,\n",
       "        17., 17., 15., 17., 18., 18., 15., 17., 15., 20., 23., 19., 18., 19.,\n",
       "        26., 24., 21., 29., 27., 27., 26., 26., 29., 28., 27., 29., 26., 29.,\n",
       "        26., 26., 25., 26., 26., 23., 23., 23., 22., 19., 19., 24., 26., 23.,\n",
       "        23., 20., 24., 23., 19., 24., 18., 21., 21., 21., 24., 21., 23., 24.,\n",
       "        23., 20., 20., 18., 21., 25., 28., 18., 19., 21., 27., 20., 23., 22.,\n",
       "        24., 20., 18., 19., 21., 21., 21., 22., 22., 19., 23., 18., 22., 24.,\n",
       "        19., 19., 19., 16., 21., 19., 20., 17., 18., 21., 21., 19., 19., 20.,\n",
       "        19., 20., 19., 17., 18., 17., 18., 19., 20.])"
      ]
     },
     "execution_count": 13,
     "metadata": {},
     "output_type": "execute_result"
    }
   ],
   "source": [
    "ts_tensor"
   ]
  },
  {
   "cell_type": "code",
   "execution_count": null,
   "metadata": {},
   "outputs": [],
   "source": []
  }
 ],
 "metadata": {
  "kernelspec": {
   "display_name": "Python 3",
   "language": "python",
   "name": "python3"
  },
  "language_info": {
   "codemirror_mode": {
    "name": "ipython",
    "version": 3
   },
   "file_extension": ".py",
   "mimetype": "text/x-python",
   "name": "python",
   "nbconvert_exporter": "python",
   "pygments_lexer": "ipython3",
   "version": "3.8.10"
  }
 },
 "nbformat": 4,
 "nbformat_minor": 4
}
